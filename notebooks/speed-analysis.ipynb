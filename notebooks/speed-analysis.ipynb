{
 "cells": [
  {
   "attachments": {},
   "cell_type": "markdown",
   "metadata": {},
   "source": [
    "# Parameter Analysis"
   ]
  },
  {
   "cell_type": "code",
   "execution_count": null,
   "metadata": {},
   "outputs": [],
   "source": [
    "import pandas as pd\n",
    "import numpy as np\n",
    "import plotly.graph_objects as go\n",
    "from pathlib import Path\n",
    "import os\n",
    "import sumolib\n",
    "import sys\n",
    "import optparse\n",
    "import random\n",
    "from omegaconf import OmegaConf\n",
    "import matplotlib.pyplot as plt\n",
    "from sklearn.preprocessing import MinMaxScaler\n",
    "from omegaconf import DictConfig\n",
    "\n",
    "ROOT = Path(os.getcwd()).parent\n",
    "os.environ['ROOT'] = str(ROOT)"
   ]
  },
  {
   "cell_type": "code",
   "execution_count": 4,
   "metadata": {},
   "outputs": [],
   "source": [
    "actual_df = pd.read_csv(ROOT / \"data\" / \"test.csv\")\n",
    "pd.options.plotting.backend = \"plotly\"\n",
    "error_df = actual_df.copy()\n",
    "error_df = error_df.dropna()\n",
    "error_df = error_df.drop(columns=['epoch_time', 'leadvelocity', 'leadposition', 'leadacceleration'])\n",
    "error_df = error_df.reset_index(drop=True)"
   ]
  },
  {
   "cell_type": "code",
   "execution_count": 16,
   "metadata": {},
   "outputs": [
    {
     "data": {
      "text/plain": [
       "3.0"
      ]
     },
     "execution_count": 16,
     "metadata": {},
     "output_type": "execute_result"
    }
   ],
   "source": [
    "actual_df.loc[actual_df['followvelocity'].notna(), 'seconds'].iloc[0]"
   ]
  },
  {
   "cell_type": "code",
   "execution_count": null,
   "metadata": {},
   "outputs": [],
   "source": []
  },
  {
   "cell_type": "code",
   "execution_count": null,
   "metadata": {},
   "outputs": [],
   "source": []
  },
  {
   "cell_type": "code",
   "execution_count": null,
   "metadata": {},
   "outputs": [],
   "source": [
    "def xml_to_df(xml_path):\n",
    "    rows = []\n",
    "    xml_path = str(xml_path)\n",
    "\n",
    "    for r in sumolib.xml.parse_fast_nested(xml_path, \"timestep\", [\"time\"], \"vehicle\", [\"id\", \"speed\", \"pos\", \"acceleration\"]):\n",
    "        rows.append(\n",
    "            {\n",
    "                **r[0]._asdict(),\n",
    "                **r[1]._asdict()\n",
    "            }\n",
    "        )\n",
    "\n",
    "    return pd.DataFrame(rows)"
   ]
  },
  {
   "cell_type": "code",
   "execution_count": null,
   "metadata": {},
   "outputs": [],
   "source": [
    "sumo_df = xml_to_df(ROOT / \"sumo-xml\" / \"output\" / \"d_fcd.xml\")\n",
    "leader_df = sumo_df.query(\"id == 'leader'\")\n",
    "follower_df = sumo_df.query(\"id == 'follower'\")"
   ]
  },
  {
   "cell_type": "code",
   "execution_count": null,
   "metadata": {},
   "outputs": [],
   "source": [
    "config_dir = ROOT / \"sumo-xml\" / \"output\" / \"configs\"\n",
    "config_files = [OmegaConf.load(f) for f in config_dir.glob(\"*.yaml\")]"
   ]
  },
  {
   "cell_type": "code",
   "execution_count": null,
   "metadata": {},
   "outputs": [],
   "source": [
    "df_dict = {}\n",
    "for config in config_files:\n",
    "    df_dict[config.Config.run_id] = xml_to_df(Path(config.Config.output_path) / f\"{config.Config.run_id}_fcd.xml\")\n",
    "    df_dict[config.Config.run_id] = df_dict[config.Config.run_id].query(\"id == 'follower'\")"
   ]
  },
  {
   "cell_type": "code",
   "execution_count": null,
   "metadata": {},
   "outputs": [],
   "source": [
    "def rmsn(run_id, sim_df, error_df):\n",
    "    # root mean square error normalized\n",
    "    n = len(error_df)\n",
    "    sim_df = sim_df.reset_index(drop=True)\n",
    "    #print(error_df['followposition'] - sim_df['pos'].astype(float))\n",
    "    pos_observed_sum = np.sum(error_df['followposition'].astype(float))\n",
    "\n",
    "    rmsn_numerator = np.sqrt(n * np.sum(np.square(error_df['followposition'] - sim_df['pos'].astype(float))))\n",
    "    rmsn_val = rmsn_numerator / (pos_observed_sum)\n",
    "\n",
    "    config_file = config_dir / f\"{run_id}_config.yaml\"\n",
    "    config = OmegaConf.load(config_file)\n",
    "    config.CFParameters.rmsn = float(rmsn_val)\n",
    "    OmegaConf.save(config, config_file)\n",
    "    \n",
    "    return rmsn_val"
   ]
  },
  {
   "cell_type": "code",
   "execution_count": null,
   "metadata": {},
   "outputs": [],
   "source": [
    "def rmspe(run_id, sim_df, error_df):\n",
    "    # root mean square percentage error\n",
    "    n = len(error_df)\n",
    "    sim_df = sim_df.reset_index(drop=True)\n",
    "    dev = np.square((sim_df['pos'].astype(float) - error_df['followposition']) / error_df['followposition'])\n",
    "    rmspe_val = np.sqrt(np.sum(dev) / n)\n",
    "\n",
    "    config_file = config_dir / f\"{run_id}_config.yaml\"\n",
    "    config = OmegaConf.load(config_file)\n",
    "    config.CFParameters.rmspe = float(rmspe_val)\n",
    "    OmegaConf.save(config, config_file)\n",
    "\n",
    "    return rmspe_val"
   ]
  },
  {
   "cell_type": "code",
   "execution_count": null,
   "metadata": {},
   "outputs": [],
   "source": [
    "def mpe(run_id, sim_df, error_df):\n",
    "    # mean percentage error\n",
    "    n = len(error_df)\n",
    "    sim_df = sim_df.reset_index(drop=True)\n",
    "    mean = np.sum((sim_df['pos'].astype(float) - error_df['followposition']) / error_df['followposition'])\n",
    "    mpe_val = mean / n\n",
    "\n",
    "    config_file = config_dir / f\"{run_id}_config.yaml\"\n",
    "    config = OmegaConf.load(config_file)\n",
    "    config.CFParameters.mpe = float(mpe_val)\n",
    "    OmegaConf.save(config, config_file)\n",
    "\n",
    "    return mpe_val"
   ]
  },
  {
   "cell_type": "code",
   "execution_count": null,
   "metadata": {},
   "outputs": [],
   "source": [
    "for key, value in df_dict.items():\n",
    "    sim_df = value\n",
    "    rmsn(key, sim_df, error_df)\n",
    "    rmspe(key, sim_df, error_df)\n",
    "    mpe(key, sim_df, error_df)"
   ]
  },
  {
   "cell_type": "code",
   "execution_count": null,
   "metadata": {},
   "outputs": [],
   "source": [
    "# heatmap code\n",
    "data = []\n",
    "for config_file in config_files:\n",
    "    config = config_file\n",
    "    acceleration = config.CFParameters.acceleration\n",
    "    deceleration = config.CFParameters.deceleration\n",
    "    rmsn = config.CFParameters.rmsn\n",
    "    data.append((acceleration, deceleration, rmsn))\n",
    "\n",
    "unique_accel = sorted(set(x[0] for x in data))\n",
    "unique_decel = sorted(set(x[1] for x in data))\n",
    "\n",
    "z_matrix = [[None] * len(unique_decel) for _ in range(len(unique_accel))]\n",
    "\n",
    "for accel, decel, rmsn in data:\n",
    "    accel_idx = unique_accel.index(accel)\n",
    "    decel_idx = unique_decel.index(decel)\n",
    "    z_matrix[accel_idx][decel_idx] = rmsn\n",
    "\n",
    "fig = go.Figure(data=go.Heatmap(z=z_matrix, x=unique_decel, y=unique_accel, colorscale='Viridis'))\n",
    "fig.update_layout(title='RMSN Heatmap Acceleration vs Deceleration', xaxis_title='Deceleration', yaxis_title='Acceleration')\n",
    "fig.show()"
   ]
  },
  {
   "cell_type": "code",
   "execution_count": null,
   "metadata": {},
   "outputs": [],
   "source": [
    "# Read the data from the config files into a list of dictionaries\n",
    "data = []\n",
    "for config_file in config_files:\n",
    "    config = config_file\n",
    "    acceleration = config.CFParameters.acceleration\n",
    "    deceleration = config.CFParameters.deceleration\n",
    "    tau = config.CFParameters.tau\n",
    "    speedFactor = config.CFParameters.speedFactor\n",
    "    rmsn = config.CFParameters.rmsn\n",
    "    rmspe = config.CFParameters.rmspe\n",
    "    data.append({'acceleration': acceleration, 'deceleration': deceleration, 'tau': tau, 'speedFactor': speedFactor, 'rmsn': rmsn, 'rmspe': rmspe, 'mpe': mpe})\n",
    "\n",
    "# Create a DataFrame from the list of dictionaries\n",
    "df = pd.DataFrame(data)\n",
    "\n",
    "\n",
    "# Create the parallel coordinates plot\n",
    "fig = go.Figure(data=go.Parcoords(\n",
    "    dimensions=[\n",
    "        dict(range=[df['tau'].min(), df['tau'].max()],\n",
    "             label='Tau', values=df['tau']),\n",
    "        dict(range=[df['acceleration'].min(), df['acceleration'].max()],\n",
    "             label='Acceleration', values=df['acceleration']),\n",
    "        dict(range=[df['deceleration'].min(), df['deceleration'].max()],\n",
    "             label='Deceleration', values=df['deceleration']),\n",
    "        dict(range=[df['speedFactor'].min(), df['speedFactor'].max()],\n",
    "             label='Speed Factor', values=df['speedFactor']),\n",
    "        dict(range=[df['rmsn'].min(), df['rmsn'].max()],\n",
    "             label='RMSN', values=df['rmsn']),\n",
    "        dict()     \n",
    "    ],\n",
    "    line=dict(color=df['rmsn'], colorscale='Viridis', showscale=True, cmin=df['rmsn'].min(), cmax=df['rmsn'].max())\n",
    "))\n",
    "\n",
    "fig.update_layout(\n",
    "    title='Parallel Coordinates Plot (Tau, Acceleration, Deceleration, Speed Factor, RMSN)',\n",
    "    title_x=0.5,  # Position of the title along the x-axis, 0.5 centers it\n",
    "    title_font=dict(size=20)\n",
    ")\n",
    "\n",
    "fig.show()"
   ]
  },
  {
   "cell_type": "code",
   "execution_count": null,
   "metadata": {},
   "outputs": [],
   "source": [
    "vt_fig = go.Figure(data=go.Scatter(x=actual_df['seconds'], y=actual_df['leadvelocity'], name='RW leader'))\n",
    "vt_fig.add_scatter(x=actual_df['seconds'], y=actual_df['followvelocity'], name='RW follower')\n",
    "\n",
    "vt_fig.add_scatter(x=leader_df[\"time\"], y=leader_df[\"speed\"], name=\"d_sumo leader\")\n",
    "vt_fig.add_scatter(x=follower_df[\"time\"], y=follower_df[\"speed\"], name=\"d_sumo follower\")\n",
    "\n",
    "for key, value in df_dict.items():\n",
    "    vt_fig.add_scatter(x=value[\"time\"], y=value[\"speed\"], name=f\"{key}_sumo follower\")\n",
    "\n",
    "vt_fig.update_layout(\n",
    "    title=\"Velocity vs Time (RW vs SUMO base 32)\",\n",
    "    xaxis_title=\"Time (s)\",\n",
    "    yaxis_title=\"Velocity (m/s)\",\n",
    "    legend_title=\"Source\",\n",
    ")\n",
    "\n",
    "vt_fig.show()"
   ]
  },
  {
   "cell_type": "code",
   "execution_count": null,
   "metadata": {},
   "outputs": [],
   "source": [
    "dt_fig = go.Figure(data=go.Scatter(x=actual_df['seconds'], y=actual_df['leadposition'], name='RW leader'))\n",
    "\n",
    "dt_fig.add_scatter(x=actual_df['seconds'], y=actual_df['followposition'], name='RW follower')\n",
    "dt_fig.add_scatter(x=leader_df[\"time\"], y=leader_df[\"pos\"], name=\"d_sumo leader\")\n",
    "dt_fig.add_scatter(x=follower_df[\"time\"], y=follower_df[\"pos\"], name=\"d_sumo follower\")\n",
    "\n",
    "for key, value in df_dict.items():\n",
    "    dt_fig.add_scatter(x=value[\"time\"], y=value[\"pos\"], name=f\"{key}_sumo follower\")\n",
    "\n",
    "dt_fig.update_layout(\n",
    "    title=\"Distance vs Time (RW vs SUMO)\",\n",
    "    xaxis_title=\"Time (s)\",\n",
    "    yaxis_title=\"Distance (m)\",\n",
    "    legend_title=\"Source\",\n",
    ")\n",
    "\n",
    "dt_fig.show()"
   ]
  },
  {
   "cell_type": "code",
   "execution_count": null,
   "metadata": {},
   "outputs": [],
   "source": [
    "at_fig = go.Figure(data=go.Scatter(x=actual_df['seconds'], y=actual_df['leadacceleration'], name='RW leader'))\n",
    "\n",
    "at_fig.add_scatter(x=actual_df[\"seconds\"], y=actual_df[\"followacceleration\"], name=\"RW follower\")\n",
    "at_fig.add_scatter(x=leader_df[\"time\"], y=leader_df[\"acceleration\"], name=\"d_sumo leader\")\n",
    "at_fig.add_scatter(x=follower_df[\"time\"], y=follower_df[\"acceleration\"], name=\"d_sumo follower\")\n",
    "\n",
    "for key, value in df_dict.items():\n",
    "    at_fig.add_scatter(x=value[\"time\"], y=value[\"acceleration\"], name=f\"{key}_sumo follower\")\n",
    "\n",
    "at_fig.update_layout(\n",
    "    title=\"Acceleration vs Time (RW vs SUMO)\",\n",
    "    xaxis_title=\"Time (s)\",\n",
    "    yaxis_title=\"Acceleration (m/s^2)\",\n",
    "    legend_title=\"Source\",\n",
    ")\n",
    "\n",
    "at_fig.show()"
   ]
  }
 ],
 "metadata": {
  "kernelspec": {
   "display_name": "venv",
   "language": "python",
   "name": "python3"
  },
  "language_info": {
   "codemirror_mode": {
    "name": "ipython",
    "version": 3
   },
   "file_extension": ".py",
   "mimetype": "text/x-python",
   "name": "python",
   "nbconvert_exporter": "python",
   "pygments_lexer": "ipython3",
   "version": "3.9.13"
  },
  "orig_nbformat": 4,
  "vscode": {
   "interpreter": {
    "hash": "6259a62148895d005df248a5b70d2236f8fbe57834d131764e4ea38ba60625c2"
   }
  }
 },
 "nbformat": 4,
 "nbformat_minor": 2
}
